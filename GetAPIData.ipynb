{
 "cells": [
  {
   "attachments": {},
   "cell_type": "markdown",
   "metadata": {},
   "source": [
    "Import all package"
   ]
  },
  {
   "cell_type": "code",
   "execution_count": 1,
   "metadata": {},
   "outputs": [],
   "source": [
    "import numpy as np\n",
    "import plotly as plt\n",
    "import yfinance as yfin\n",
    "import sqlite3 as sql\n",
    "import pandas as pd\n",
    "import pandas_datareader as pdd\n",
    "import threading\n",
    "import time\n",
    "import os"
   ]
  },
  {
   "attachments": {},
   "cell_type": "markdown",
   "metadata": {},
   "source": [
    "Tickers"
   ]
  },
  {
   "cell_type": "code",
   "execution_count": 32,
   "metadata": {},
   "outputs": [],
   "source": [
    "currencies = [\"BTC-USD\",\"ETH-USD\",\"TTE.PA\"]"
   ]
  },
  {
   "attachments": {},
   "cell_type": "markdown",
   "metadata": {},
   "source": [
    "Function to use ticker and get data"
   ]
  },
  {
   "cell_type": "code",
   "execution_count": 3,
   "metadata": {},
   "outputs": [],
   "source": [
    "def getMetaData(s : str):\n",
    "    ticker = yfin.Ticker(s)\n",
    "    ticker.history()\n",
    "    meta = ticker.history_metadata\n",
    "    return meta\n",
    "\n",
    "def getData(s : str):\n",
    "    ticker = yfin.Ticker(s)\n",
    "    data = ticker.history(\"max\")\n",
    "    return data\n",
    "\n",
    "def getCurrentData(tickers :list):\n",
    "    return pdd.get_quote_yahoo(tickers)[\"regularMarketPrice\"]"
   ]
  },
  {
   "attachments": {},
   "cell_type": "markdown",
   "metadata": {},
   "source": [
    "Currency Table with meta data"
   ]
  },
  {
   "cell_type": "code",
   "execution_count": 39,
   "metadata": {},
   "outputs": [],
   "source": [
    "def createCurrencyTable():\n",
    "    db = sql.connect(\"mydatabase.db\")\n",
    "    c = db.cursor()\n",
    "    dropCurrencyTable = '''DROP TABLE IF EXISTS currency'''\n",
    "\n",
    "    createCurrencyTable = '''CREATE TABLE currency(\n",
    "        [currencyId] INTEGER PRIMARY KEY AUTOINCREMENT,\n",
    "        [currencyName] TEXT,\n",
    "        [instrumentType] TEXT,\n",
    "        [regularMarketTime] INT,\n",
    "        [gtmOffset] INT,\n",
    "        [timezone] TEXT\n",
    "        )'''\n",
    "    c.execute(dropCurrencyTable)\n",
    "    c.execute(createCurrencyTable)\n",
    "    db.commit()\n",
    "\n",
    "def insertMultipleCurrency(currencies : list):\n",
    "    db = sql.connect(\"mydatabase.db\")\n",
    "    c = db.cursor()\n",
    "    request = '''INSERT INTO currency (currencyName,instrumenttype,regularMarketTime,gtmOffset,timezone)\n",
    "        VALUES  '''\n",
    "    for curr in currencies:\n",
    "        metaData = getMetaData(curr)\n",
    "        request += f'''\n",
    "        ('{metaData['symbol']}',\n",
    "        '{metaData['instrumentType']}',\n",
    "        {metaData['regularMarketTime']},\n",
    "        {metaData['gmtoffset']},\n",
    "        '{metaData['timezone']}')'''\n",
    "        if not curr == currencies[-1]:\n",
    "            request += ','\n",
    "        else:\n",
    "            request += ';'\n",
    "    \n",
    "    c.execute(request)\n",
    "    db.commit()\n",
    "\n",
    "def insertSoloCurrency(currency : str):\n",
    "    db = sql.connect(\"mydatabase.db\")\n",
    "    c = db.cursor()\n",
    "    metaData = getMetaData(currency)\n",
    "    request = f'''INSERT INTO currency (currencyName,instrumenttype,regularMarketTime,gtmOffset,timezone)\n",
    "        VALUES ('{metaData['symbol']}' , '{metaData['instrumentType']}', {metaData['regularMarketTime']} , {metaData['gmtoffset']}, '{metaData['timezone']}')'''\n",
    "    c.execute(request)\n",
    "    db.commit()\n",
    "\n"
   ]
  },
  {
   "attachments": {},
   "cell_type": "markdown",
   "metadata": {},
   "source": [
    "Currency table"
   ]
  },
  {
   "cell_type": "code",
   "execution_count": 37,
   "metadata": {},
   "outputs": [],
   "source": [
    "def createAllTable():\n",
    "    db = sql.connect(\"mydatabase.db\")\n",
    "    c = db.cursor()\n",
    "    c.execute('''SELECT currencyName FROM currency''')\n",
    "    currencies= c.fetchall()\n",
    "    for curr in currencies:\n",
    "        tableName = str(curr[0])\n",
    "        for char in ['-','.','^']:\n",
    "            tableName = tableName.replace(char,\"\")\n",
    "        createNewCurrencyTable = f'''CREATE TABLE IF NOT EXISTS {tableName}(\n",
    "        [Id] INTEGER PRIMARY KEY AUTOINCREMENT,\n",
    "        [Close] NUMBER,\n",
    "        [Volume] NUMBER\n",
    "        )'''\n",
    "        c.execute(createNewCurrencyTable)\n",
    "    db.commit()\n",
    "\n",
    "def createFillTableRequest(currency : str, tableName : str):\n",
    "    request = f'''INSERT INTO {tableName} (Close,Volume)\n",
    "        VALUES  '''\n",
    "    data = getData(currency)\n",
    "    dta = pd.DataFrame(data)\n",
    "    for i in range(dta.shape[0]):\n",
    "        line = dta.iloc[i]\n",
    "        request += f'''({round(line['Close'],13)},{line['Volume']})'''\n",
    "        if not (i == dta.shape[0]-1):\n",
    "            request += ','\n",
    "        else:\n",
    "            request += ';'\n",
    "    return request\n",
    "\n",
    "def fillAllTable(currencies : list):\n",
    "    db = sql.connect(\"mydatabase.db\")\n",
    "    c = db.cursor()\n",
    "    for curr in currencies:\n",
    "        tableName = str(curr)\n",
    "        for char in ['-','.','^']:\n",
    "            tableName = tableName.replace(char,\"\")\n",
    "        request = createFillTableRequest(curr , tableName)\n",
    "        c.execute(request)\n",
    "    db.commit()"
   ]
  },
  {
   "attachments": {},
   "cell_type": "markdown",
   "metadata": {},
   "source": [
    "Init DB Scipt"
   ]
  },
  {
   "cell_type": "code",
   "execution_count": 40,
   "metadata": {},
   "outputs": [],
   "source": [
    "createCurrencyTable()\n",
    "insertMultipleCurrency(currencies)\n",
    "createAllTable()\n",
    "fillAllTable(currencies)"
   ]
  },
  {
   "attachments": {},
   "cell_type": "markdown",
   "metadata": {},
   "source": [
    "Thread get current price"
   ]
  },
  {
   "cell_type": "code",
   "execution_count": 30,
   "metadata": {},
   "outputs": [
    {
     "name": "stdout",
     "output_type": "stream",
     "text": [
      "-------Start Thread--------\n",
      "Value 0 : TTE.PA , 60.06\n",
      "Value 1 : TTE.PA , 60.06\n"
     ]
    },
    {
     "ename": "KeyboardInterrupt",
     "evalue": "",
     "output_type": "error",
     "traceback": [
      "\u001b[0;31m---------------------------------------------------------------------------\u001b[0m",
      "\u001b[0;31mKeyboardInterrupt\u001b[0m                         Traceback (most recent call last)",
      "Cell \u001b[0;32mIn[30], line 34\u001b[0m\n\u001b[1;32m     32\u001b[0m threadApi \u001b[39m=\u001b[39m thread(\u001b[39m\"\u001b[39m\u001b[39mgetDataThread\u001b[39m\u001b[39m\"\u001b[39m,[\u001b[39m\"\u001b[39m\u001b[39mTTE.PA\u001b[39m\u001b[39m\"\u001b[39m])\n\u001b[1;32m     33\u001b[0m threadApi\u001b[39m.\u001b[39mstart()\n\u001b[0;32m---> 34\u001b[0m threadApi\u001b[39m.\u001b[39;49mjoin()\n",
      "File \u001b[0;32m/usr/lib/python3.9/threading.py:1033\u001b[0m, in \u001b[0;36mThread.join\u001b[0;34m(self, timeout)\u001b[0m\n\u001b[1;32m   1030\u001b[0m     \u001b[39mraise\u001b[39;00m \u001b[39mRuntimeError\u001b[39;00m(\u001b[39m\"\u001b[39m\u001b[39mcannot join current thread\u001b[39m\u001b[39m\"\u001b[39m)\n\u001b[1;32m   1032\u001b[0m \u001b[39mif\u001b[39;00m timeout \u001b[39mis\u001b[39;00m \u001b[39mNone\u001b[39;00m:\n\u001b[0;32m-> 1033\u001b[0m     \u001b[39mself\u001b[39;49m\u001b[39m.\u001b[39;49m_wait_for_tstate_lock()\n\u001b[1;32m   1034\u001b[0m \u001b[39melse\u001b[39;00m:\n\u001b[1;32m   1035\u001b[0m     \u001b[39m# the behavior of a negative timeout isn't documented, but\u001b[39;00m\n\u001b[1;32m   1036\u001b[0m     \u001b[39m# historically .join(timeout=x) for x<0 has acted as if timeout=0\u001b[39;00m\n\u001b[1;32m   1037\u001b[0m     \u001b[39mself\u001b[39m\u001b[39m.\u001b[39m_wait_for_tstate_lock(timeout\u001b[39m=\u001b[39m\u001b[39mmax\u001b[39m(timeout, \u001b[39m0\u001b[39m))\n",
      "File \u001b[0;32m/usr/lib/python3.9/threading.py:1049\u001b[0m, in \u001b[0;36mThread._wait_for_tstate_lock\u001b[0;34m(self, block, timeout)\u001b[0m\n\u001b[1;32m   1047\u001b[0m \u001b[39mif\u001b[39;00m lock \u001b[39mis\u001b[39;00m \u001b[39mNone\u001b[39;00m:  \u001b[39m# already determined that the C code is done\u001b[39;00m\n\u001b[1;32m   1048\u001b[0m     \u001b[39massert\u001b[39;00m \u001b[39mself\u001b[39m\u001b[39m.\u001b[39m_is_stopped\n\u001b[0;32m-> 1049\u001b[0m \u001b[39melif\u001b[39;00m lock\u001b[39m.\u001b[39;49macquire(block, timeout):\n\u001b[1;32m   1050\u001b[0m     lock\u001b[39m.\u001b[39mrelease()\n\u001b[1;32m   1051\u001b[0m     \u001b[39mself\u001b[39m\u001b[39m.\u001b[39m_stop()\n",
      "\u001b[0;31mKeyboardInterrupt\u001b[0m: "
     ]
    }
   ],
   "source": [
    "class thread(threading.Thread):\n",
    "    def __init__(self, threadName , threadTicker):\n",
    "        threading.Thread.__init__(self)\n",
    "        self.threadName = threadName\n",
    "        self.threadTicker = threadTicker\n",
    "        self.i = 0\n",
    "        self.killed = False\n",
    "    \n",
    "    def run(self):\n",
    "        print(\"-------Start Thread--------\")\n",
    "        lastTime = time.time().__int__()\n",
    "        values = getCurrentData(self.threadTicker)\n",
    "        print(f'''Value {self.i} : {values.index[0]} , {values[0]}''')\n",
    "        self.i = 0\n",
    "        while True and not self.killed:\n",
    "            currentTime = time.time().__int__() \n",
    "            if currentTime == lastTime + 10:\n",
    "                self.i +=1\n",
    "                lastTime = currentTime\n",
    "                values = getCurrentData(self.threadTicker)\n",
    "                print(f'''Value {self.i} : {values.index[0]} , {values[0]}''')\n",
    "            if self.i == 10:\n",
    "                print(\"-------End Thread--------\")\n",
    "                break\n",
    "            time.sleep(1)\n",
    "        return None\n",
    "\n",
    "    def kill(self):\n",
    "        self.killed = True\n",
    "        print(\"-------Thread Killed---------\")\n",
    "\n",
    "threadApi = thread(\"getDataThread\",[\"TTE.PA\"])\n",
    "threadApi.start()\n",
    "threadApi.join()"
   ]
  },
  {
   "cell_type": "code",
   "execution_count": 31,
   "metadata": {},
   "outputs": [
    {
     "name": "stdout",
     "output_type": "stream",
     "text": [
      "-------Thread Killed---------\n"
     ]
    }
   ],
   "source": [
    "threadApi.kill()"
   ]
  }
 ],
 "metadata": {
  "kernelspec": {
   "display_name": "Python 3",
   "language": "python",
   "name": "python3"
  },
  "language_info": {
   "codemirror_mode": {
    "name": "ipython",
    "version": 3
   },
   "file_extension": ".py",
   "mimetype": "text/x-python",
   "name": "python",
   "nbconvert_exporter": "python",
   "pygments_lexer": "ipython3",
   "version": "3.9.2"
  },
  "orig_nbformat": 4,
  "vscode": {
   "interpreter": {
    "hash": "916dbcbb3f70747c44a77c7bcd40155683ae19c65e1c03b4aa3499c5328201f1"
   }
  }
 },
 "nbformat": 4,
 "nbformat_minor": 2
}
